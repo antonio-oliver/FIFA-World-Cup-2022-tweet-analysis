{
 "cells": [
  {
   "cell_type": "markdown",
   "metadata": {},
   "source": [
    "## Análisis inicial"
   ]
  },
  {
   "cell_type": "code",
   "execution_count": 34,
   "metadata": {},
   "outputs": [],
   "source": [
    "# Importar las librerías necesarias\n",
    "import pandas as pd\n",
    "import numpy as np\n",
    "import matplotlib.pyplot as plt\n",
    "import seaborn as sns\n",
    "import re\n",
    "\n",
    "# Para tokenización sin depender de 'punkt'\n",
    "from nltk.corpus import stopwords\n",
    "from nltk.tokenize import RegexpTokenizer\n",
    "from wordcloud import WordCloud\n",
    "\n",
    "# Para análisis de sentimiento con VADER\n",
    "from vaderSentiment.vaderSentiment import SentimentIntensityAnalyzer\n",
    "\n",
    "# Para extracción de tópicos con LDA\n",
    "from sklearn.feature_extraction.text import CountVectorizer\n",
    "from sklearn.decomposition import LatentDirichletAllocation\n",
    "\n",
    "# Configuración de estilo para los gráficos\n",
    "sns.set(style=\"whitegrid\", context=\"talk\")\n",
    "\n",
    "# Habilitar la visualización inline en Jupyter Notebook\n",
    "%matplotlib inline"
   ]
  },
  {
   "cell_type": "code",
   "execution_count": 35,
   "metadata": {},
   "outputs": [],
   "source": [
    "df = pd.read_csv(\"data/fifa_world_cup_2022_tweets.csv\")"
   ]
  },
  {
   "cell_type": "code",
   "execution_count": 36,
   "metadata": {},
   "outputs": [
    {
     "name": "stdout",
     "output_type": "stream",
     "text": [
      "   Unnamed: 0               Date Created  Number of Likes  \\\n",
      "0           0  2022-11-20 23:59:21+00:00                4   \n",
      "1           1  2022-11-20 23:59:01+00:00                3   \n",
      "2           2  2022-11-20 23:58:41+00:00                1   \n",
      "3           3  2022-11-20 23:58:33+00:00                1   \n",
      "4           4  2022-11-20 23:58:28+00:00                0   \n",
      "\n",
      "       Source of Tweet                                              Tweet  \\\n",
      "0      Twitter Web App  What are we drinking today @TucanTribe \\n@MadB...   \n",
      "1   Twitter for iPhone  Amazing @CanadaSoccerEN  #WorldCup2022 launch ...   \n",
      "2   Twitter for iPhone  Worth reading while watching #WorldCup2022 htt...   \n",
      "3      Twitter Web App  Golden Maknae shinning bright\\n\\nhttps://t.co/...   \n",
      "4  Twitter for Android  If the BBC cares so much about human rights, h...   \n",
      "\n",
      "  Sentiment  \n",
      "0   neutral  \n",
      "1  positive  \n",
      "2  positive  \n",
      "3  positive  \n",
      "4  negative  \n"
     ]
    }
   ],
   "source": [
    "print(df.head())"
   ]
  },
  {
   "cell_type": "code",
   "execution_count": 38,
   "metadata": {},
   "outputs": [
    {
     "name": "stdout",
     "output_type": "stream",
     "text": [
      "Index(['Unnamed: 0', 'Date Created', 'Number of Likes', 'Source of Tweet',\n",
      "       'Tweet', 'Sentiment'],\n",
      "      dtype='object')\n"
     ]
    }
   ],
   "source": [
    "df.columns = df.columns.str.strip()\n",
    "print(df.columns)"
   ]
  },
  {
   "cell_type": "code",
   "execution_count": 39,
   "metadata": {},
   "outputs": [
    {
     "name": "stdout",
     "output_type": "stream",
     "text": [
      "<class 'pandas.core.frame.DataFrame'>\n",
      "RangeIndex: 22524 entries, 0 to 22523\n",
      "Data columns (total 6 columns):\n",
      " #   Column           Non-Null Count  Dtype \n",
      "---  ------           --------------  ----- \n",
      " 0   Unnamed: 0       22524 non-null  int64 \n",
      " 1   Date Created     22524 non-null  object\n",
      " 2   Number of Likes  22524 non-null  int64 \n",
      " 3   Source of Tweet  22524 non-null  object\n",
      " 4   Tweet            22524 non-null  object\n",
      " 5   Sentiment        22524 non-null  object\n",
      "dtypes: int64(2), object(4)\n",
      "memory usage: 1.0+ MB\n",
      "None\n"
     ]
    }
   ],
   "source": [
    "print(df.info())"
   ]
  },
  {
   "cell_type": "code",
   "execution_count": 40,
   "metadata": {},
   "outputs": [
    {
     "name": "stdout",
     "output_type": "stream",
     "text": [
      "         Unnamed: 0  Number of Likes\n",
      "count  22524.000000     22524.000000\n",
      "mean   11261.500000        23.822856\n",
      "std     6502.263068      2128.018705\n",
      "min        0.000000         0.000000\n",
      "25%     5630.750000         0.000000\n",
      "50%    11261.500000         0.000000\n",
      "75%    16892.250000         2.000000\n",
      "max    22523.000000    316867.000000\n"
     ]
    }
   ],
   "source": [
    "print(df.describe())"
   ]
  },
  {
   "cell_type": "markdown",
   "metadata": {},
   "source": [
    "## Preprocesamiento del texto"
   ]
  },
  {
   "cell_type": "code",
   "execution_count": 41,
   "metadata": {},
   "outputs": [
    {
     "name": "stdout",
     "output_type": "stream",
     "text": [
      "\n",
      "Ejemplos de preprocesamiento:\n",
      "                                               Tweet  \\\n",
      "0  What are we drinking today @TucanTribe \\n@MadB...   \n",
      "1  Amazing @CanadaSoccerEN  #WorldCup2022 launch ...   \n",
      "2  Worth reading while watching #WorldCup2022 htt...   \n",
      "3  Golden Maknae shinning bright\\n\\nhttps://t.co/...   \n",
      "4  If the BBC cares so much about human rights, h...   \n",
      "\n",
      "                                        texto_limpio  \n",
      "0                            drinking today worldcup  \n",
      "1  amazing worldcup launch video shows much face ...  \n",
      "2                    worth reading watching worldcup  \n",
      "3  golden maknae shinning bright jeonjungkook jun...  \n",
      "4  bbc cares much human rights homosexual rights ...  \n"
     ]
    }
   ],
   "source": [
    "# Configurar las stopwords (en inglés; cambia a 'spanish' si es necesario)\n",
    "stop_words = set(stopwords.words('english'))\n",
    "\n",
    "# Crear un tokenizador que extraiga secuencias de caracteres alfanuméricos (no depende de punkt)\n",
    "tokenizer = RegexpTokenizer(r'\\w+')\n",
    "\n",
    "def limpiar_texto(texto):\n",
    "    # Convertir a minúsculas\n",
    "    texto = texto.lower()\n",
    "    # Eliminar URLs\n",
    "    texto = re.sub(r'http\\S+|www\\S+|https\\S+', '', texto, flags=re.MULTILINE)\n",
    "    # Eliminar menciones (@usuario) y el símbolo de hashtag (se conserva la palabra)\n",
    "    texto = re.sub(r'\\@\\w+', '', texto)\n",
    "    texto = re.sub(r'\\#', '', texto)\n",
    "    # Eliminar caracteres especiales y números, dejando solo letras y espacios\n",
    "    texto = re.sub(r'[^a-z\\s]', '', texto)\n",
    "    # Tokenizar usando RegexpTokenizer\n",
    "    tokens = tokenizer.tokenize(texto)\n",
    "    # Eliminar stopwords\n",
    "    tokens = [token for token in tokens if token not in stop_words]\n",
    "    return \" \".join(tokens)\n",
    "\n",
    "# Convertir la columna 'Tweet' a string (por si hay valores no-string)\n",
    "df['Tweet'] = df['Tweet'].astype(str)\n",
    "\n",
    "# Aplicar la función de limpieza a la columna \"Tweet\"\n",
    "df['texto_limpio'] = df['Tweet'].apply(limpiar_texto)\n",
    "\n",
    "# Mostrar algunos ejemplos comparando el tweet original y el limpio\n",
    "print(\"\\nEjemplos de preprocesamiento:\")\n",
    "print(df[['Tweet', 'texto_limpio']].head())"
   ]
  },
  {
   "cell_type": "markdown",
   "metadata": {},
   "source": [
    "## Análisis Exploratorio de Datos (EDA)"
   ]
  }
 ],
 "metadata": {
  "kernelspec": {
   "display_name": "Python 3",
   "language": "python",
   "name": "python3"
  },
  "language_info": {
   "codemirror_mode": {
    "name": "ipython",
    "version": 3
   },
   "file_extension": ".py",
   "mimetype": "text/x-python",
   "name": "python",
   "nbconvert_exporter": "python",
   "pygments_lexer": "ipython3",
   "version": "3.12.1"
  }
 },
 "nbformat": 4,
 "nbformat_minor": 2
}
